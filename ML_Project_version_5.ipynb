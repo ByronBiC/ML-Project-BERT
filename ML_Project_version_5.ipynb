{
  "cells": [
    {
      "cell_type": "code",
      "execution_count": null,
      "metadata": {
        "id": "0TLjH-yjZcPp"
      },
      "outputs": [],
      "source": [
        "import warnings\n",
        "warnings.filterwarnings('ignore')\n",
        "\n",
        "import numpy as np\n",
        "import pandas as pd\n",
        "import matplotlib.pyplot as plt\n",
        "import seaborn as sns\n",
        "\n",
        "sns.set_theme(context='notebook', style='whitegrid')\n",
        "\n",
        "from tqdm.auto import tqdm\n",
        "tqdm.pandas()\n",
        "from time import sleep"
      ]
    },
    {
      "cell_type": "code",
      "execution_count": null,
      "metadata": {
        "id": "L-OKTcxLhEQD"
      },
      "outputs": [],
      "source": [
        "import torch\n",
        "from tqdm.notebook import tqdm\n",
        "\n",
        "from transformers import BertTokenizer\n",
        "from torch.utils.data import TensorDataset\n",
        "\n",
        "from transformers import BertForSequenceClassification"
      ]
    },
    {
      "cell_type": "markdown",
      "metadata": {
        "jp-MarkdownHeadingCollapsed": true,
        "id": "7tq-u7S0hEQE"
      },
      "source": [
        "## Data Loading and Preprocessing"
      ]
    },
    {
      "cell_type": "code",
      "execution_count": null,
      "metadata": {
        "id": "4UrUs1mfZfBK",
        "outputId": "edfef098-50c5-4021-d1f7-a5309c6c8f81"
      },
      "outputs": [
        {
          "data": {
            "text/html": [
              "<div>\n",
              "<style scoped>\n",
              "    .dataframe tbody tr th:only-of-type {\n",
              "        vertical-align: middle;\n",
              "    }\n",
              "\n",
              "    .dataframe tbody tr th {\n",
              "        vertical-align: top;\n",
              "    }\n",
              "\n",
              "    .dataframe thead th {\n",
              "        text-align: right;\n",
              "    }\n",
              "</style>\n",
              "<table border=\"1\" class=\"dataframe\">\n",
              "  <thead>\n",
              "    <tr style=\"text-align: right;\">\n",
              "      <th></th>\n",
              "      <th>posts</th>\n",
              "      <th>predicted</th>\n",
              "      <th>intensity</th>\n",
              "    </tr>\n",
              "  </thead>\n",
              "  <tbody>\n",
              "    <tr>\n",
              "      <th>0</th>\n",
              "      <td>I know as parent of child with down syndrome t...</td>\n",
              "      <td>negative</td>\n",
              "      <td>-1</td>\n",
              "    </tr>\n",
              "    <tr>\n",
              "      <th>1</th>\n",
              "      <td>but in my heart I know this is the future prom...</td>\n",
              "      <td>neutral</td>\n",
              "      <td>0</td>\n",
              "    </tr>\n",
              "    <tr>\n",
              "      <th>2</th>\n",
              "      <td>I have mylefibrosis which turn to leukemia the...</td>\n",
              "      <td>negative</td>\n",
              "      <td>-1</td>\n",
              "    </tr>\n",
              "    <tr>\n",
              "      <th>3</th>\n",
              "      <td>from one of my health group subject wayne dyer...</td>\n",
              "      <td>neutral</td>\n",
              "      <td>0</td>\n",
              "    </tr>\n",
              "    <tr>\n",
              "      <th>4</th>\n",
              "      <td>gmos now link to leukemia http nsnbc I 2013 07...</td>\n",
              "      <td>neutral</td>\n",
              "      <td>0</td>\n",
              "    </tr>\n",
              "  </tbody>\n",
              "</table>\n",
              "</div>"
            ],
            "text/plain": [
              "                                               posts predicted  intensity\n",
              "0  I know as parent of child with down syndrome t...  negative         -1\n",
              "1  but in my heart I know this is the future prom...   neutral          0\n",
              "2  I have mylefibrosis which turn to leukemia the...  negative         -1\n",
              "3  from one of my health group subject wayne dyer...   neutral          0\n",
              "4  gmos now link to leukemia http nsnbc I 2013 07...   neutral          0"
            ]
          },
          "metadata": {},
          "output_type": "display_data"
        },
        {
          "name": "stdout",
          "output_type": "stream",
          "text": [
            "<class 'pandas.core.frame.DataFrame'>\n",
            "RangeIndex: 10392 entries, 0 to 10391\n",
            "Data columns (total 3 columns):\n",
            " #   Column     Non-Null Count  Dtype \n",
            "---  ------     --------------  ----- \n",
            " 0   posts      10391 non-null  object\n",
            " 1   predicted  10392 non-null  object\n",
            " 2   intensity  10392 non-null  int64 \n",
            "dtypes: int64(1), object(2)\n",
            "memory usage: 243.7+ KB\n"
          ]
        }
      ],
      "source": [
        "df = pd.read_csv('Mental Health Dataset.csv')\n",
        "display(df.head())\n",
        "df.info()"
      ]
    },
    {
      "cell_type": "markdown",
      "metadata": {
        "id": "zAKwzueuhEQH"
      },
      "source": [
        "### Drop useless columns and Use postive labels"
      ]
    },
    {
      "cell_type": "code",
      "execution_count": null,
      "metadata": {
        "id": "RzEw_dTnZe_f"
      },
      "outputs": [],
      "source": [
        "df = (df.drop(columns='predicted')\n",
        "        .dropna()\n",
        "        .rename(columns={'posts': 'text', 'intensity': 'sentiment'}))"
      ]
    },
    {
      "cell_type": "code",
      "execution_count": null,
      "metadata": {
        "id": "D5fUhIByZe9c"
      },
      "outputs": [],
      "source": [
        "df['sentiment'] = df['sentiment'].replace({1: 3})\n",
        "df['sentiment'] = df['sentiment'].replace({0: 2})\n",
        "df['sentiment'] = df['sentiment'].replace({-1: 1})\n",
        "df['sentiment'] = df['sentiment'].replace({-2: 0})"
      ]
    },
    {
      "cell_type": "code",
      "execution_count": null,
      "metadata": {
        "id": "YvAXP9AshEQI"
      },
      "outputs": [],
      "source": [
        "label_dict = {\"very negative\":0, \"negative\":1, \"neutral\":2, \"positive\":3}"
      ]
    },
    {
      "cell_type": "markdown",
      "metadata": {
        "id": "o80tq4M2hEQJ"
      },
      "source": [
        "### Clean Text (no links, html tags, punctuation, numbers, extra white space & lower case)"
      ]
    },
    {
      "cell_type": "code",
      "execution_count": null,
      "metadata": {
        "id": "H4AtVkCcZe7o"
      },
      "outputs": [],
      "source": [
        "import re\n",
        "import string"
      ]
    },
    {
      "cell_type": "code",
      "execution_count": null,
      "metadata": {
        "colab": {
          "base_uri": "https://localhost:8080/"
        },
        "id": "EpCkcr8dZe1n",
        "outputId": "a98f4e91-cc50-4dfc-e975-1c904dd682c8"
      },
      "outputs": [
        {
          "name": "stderr",
          "output_type": "stream",
          "text": [
            "[nltk_data] Downloading package punkt to /home/cb4344/nltk_data...\n",
            "[nltk_data]   Package punkt is already up-to-date!\n",
            "[nltk_data] Downloading package stopwords to /home/cb4344/nltk_data...\n",
            "[nltk_data]   Package stopwords is already up-to-date!\n"
          ]
        }
      ],
      "source": [
        "import nltk\n",
        "\n",
        "nltk.download('punkt')\n",
        "nltk.download('stopwords')\n",
        "\n",
        "from nltk.tokenize import word_tokenize\n",
        "from nltk.corpus import stopwords\n",
        "from nltk.stem import PorterStemmer"
      ]
    },
    {
      "cell_type": "code",
      "execution_count": null,
      "metadata": {
        "id": "c_aORR4PZe5n"
      },
      "outputs": [],
      "source": [
        "def clean_text(text):\n",
        "    # Remove links\n",
        "    text = re.sub(r'https?\\S+', '', text)\n",
        "\n",
        "    # Remove HTML tags\n",
        "    text = re.sub(r'<.*?>', '', text)\n",
        "\n",
        "    # Remove punctuation\n",
        "    text = text.translate(str.maketrans('', '', string.punctuation))\n",
        "\n",
        "    # Remove numbers and words containing numbers\n",
        "    text = re.sub(r'\\w*\\d\\w*', '', text)\n",
        "\n",
        "    # Remove new line\n",
        "    text = re.sub(r'\\n', '', text)\n",
        "\n",
        "    # Remove extra whitespace\n",
        "    text = re.sub(r'\\s+', ' ', text)\n",
        "\n",
        "    # No Need to remove stopwords for BERT\n",
        "    # additional_stop_words = [\n",
        "    #     'cancer',\n",
        "    #     'go',\n",
        "    #     'get',\n",
        "    #     'year',\n",
        "    #     'know',\n",
        "    # ]\n",
        "\n",
        "    # # Combine NLTK's English stop words with additional stop words\n",
        "    # stop_words = set(stopwords.words('english') + additional_stop_words)\n",
        "\n",
        "    # # Remove stop words\n",
        "    # processed_text = ' '.join(word for word in text.split() if word.lower() not in stop_words)\n",
        "\n",
        "    return text.lower().strip()\n",
        "\n",
        "df['text'] = df['text'].apply(clean_text)"
      ]
    },
    {
      "cell_type": "code",
      "execution_count": null,
      "metadata": {
        "id": "j3aDO9RzhEQL",
        "outputId": "89252145-34a3-447e-be4f-de3d6be1fbb6"
      },
      "outputs": [
        {
          "name": "stdout",
          "output_type": "stream",
          "text": [
            "3rd Quartile: 1327.5\n"
          ]
        },
        {
          "data": {
            "text/plain": [
              "777"
            ]
          },
          "execution_count": 10,
          "metadata": {},
          "output_type": "execute_result"
        }
      ],
      "source": [
        "import statistics\n",
        "import numpy as np\n",
        "\n",
        "third_quartile = np.percentile([len(text) for text in df['text']], 75)\n",
        "print(\"3rd Quartile:\", third_quartile)\n",
        "statistics.median([len(text) for text in df['text']])"
      ]
    },
    {
      "cell_type": "code",
      "execution_count": null,
      "metadata": {
        "id": "LKHXvM3lZezk"
      },
      "outputs": [],
      "source": [
        "# No need For BERT\n",
        "# def preprocess_text(text):\n",
        "#     tokens = word_tokenize(text)\n",
        "#     stemmer = PorterStemmer()\n",
        "\n",
        "#     additional_stop_words = [\n",
        "#         'cancer',\n",
        "#         'go',\n",
        "#         'get',\n",
        "#         'year',\n",
        "#         'know',\n",
        "#     ]\n",
        "\n",
        "#     stop_words = set(stopwords.words('english') + additional_stop_words)\n",
        "\n",
        "#     filtered_tokens = [stemmer.stem(token) for token in tokens if token not in stop_words]\n",
        "#     return ' '.join(filtered_tokens)\n",
        "\n",
        "# df['text'] = df['text'].apply(preprocess_text)"
      ]
    },
    {
      "cell_type": "markdown",
      "metadata": {
        "id": "b2JtajH1hEQM"
      },
      "source": [
        "### Train, Val, Test Split"
      ]
    },
    {
      "cell_type": "code",
      "execution_count": null,
      "metadata": {
        "id": "E2EbA4svZetZ"
      },
      "outputs": [],
      "source": [
        "from sklearn.model_selection import train_test_split\n",
        "\n",
        "X = df['text']\n",
        "y = df['sentiment']\n",
        "\n",
        "X_train, X_test, y_train, y_test = train_test_split(X,\n",
        "                                                    y,\n",
        "                                                    test_size=0.2,\n",
        "                                                    stratify=y,\n",
        "                                                    random_state=42)"
      ]
    },
    {
      "cell_type": "code",
      "execution_count": null,
      "metadata": {
        "id": "0Ow8tQbPZerG"
      },
      "outputs": [],
      "source": [
        "train_df = pd.concat([X_train, y_train], axis=1)\n",
        "test_df = pd.concat([X_test, y_test], axis=1)"
      ]
    },
    {
      "cell_type": "code",
      "execution_count": null,
      "metadata": {
        "id": "gEiV7uGCaUun"
      },
      "outputs": [],
      "source": [
        "X = train_df['text']\n",
        "y = train_df['sentiment']\n",
        "\n",
        "X_train, X_val, y_train, y_val = train_test_split(X,\n",
        "                                                  y,\n",
        "                                                  test_size=0.2,\n",
        "                                                  stratify=y,\n",
        "                                                  random_state=42)\n"
      ]
    },
    {
      "cell_type": "code",
      "execution_count": null,
      "metadata": {
        "id": "2tjuaHMLhEQM",
        "outputId": "ed7ecfdf-3220-4302-a1dd-20085411cf35"
      },
      "outputs": [
        {
          "data": {
            "text/plain": [
              "sentiment  data_type\n",
              "0          test          231\n",
              "           train         739\n",
              "           val           185\n",
              "1          test          823\n",
              "           train        2631\n",
              "           val           658\n",
              "2          test          875\n",
              "           train        2799\n",
              "           val           700\n",
              "3          test          150\n",
              "           train         480\n",
              "           val           120\n",
              "dtype: int64"
            ]
          },
          "execution_count": 15,
          "metadata": {},
          "output_type": "execute_result"
        }
      ],
      "source": [
        "train_df = pd.concat([X_train, y_train], axis=1).reset_index(drop=True)\n",
        "val_df = pd.concat([X_val, y_val], axis=1).reset_index(drop=True)\n",
        "test_df = pd.concat([X_test, y_test], axis=1).reset_index(drop=True)\n",
        "\n",
        "# Assign data types\n",
        "train_df['data_type'] = 'train'\n",
        "val_df['data_type'] = 'val'\n",
        "test_df['data_type'] = 'test'\n",
        "\n",
        "# Concatenate all subsets into one DataFrame\n",
        "df = pd.concat([train_df, val_df, test_df])\n",
        "df.groupby(['sentiment', 'data_type']).size()"
      ]
    },
    {
      "cell_type": "markdown",
      "metadata": {
        "jp-MarkdownHeadingCollapsed": true,
        "id": "x2LPK3TqhEQN"
      },
      "source": [
        "## Find CUDA device"
      ]
    },
    {
      "cell_type": "code",
      "execution_count": null,
      "metadata": {
        "colab": {
          "base_uri": "https://localhost:8080/"
        },
        "id": "5kUj4ababfwf",
        "outputId": "0ec9b69b-43da-41de-be6e-0d7fa5c29711"
      },
      "outputs": [
        {
          "name": "stdout",
          "output_type": "stream",
          "text": [
            "There are 1 GPU(s) available.\n",
            "Device name: Tesla V100-SXM2-32GB\n"
          ]
        }
      ],
      "source": [
        "if torch.cuda.is_available():\n",
        "    device = torch.device(\"cuda\")\n",
        "    print(f'There are {torch.cuda.device_count()} GPU(s) available.')\n",
        "    print('Device name:', torch.cuda.get_device_name(0))\n",
        "else:\n",
        "    print('No GPU available, using the CPU instead.')\n",
        "    device = torch.device(\"cpu\")"
      ]
    },
    {
      "cell_type": "markdown",
      "metadata": {
        "jp-MarkdownHeadingCollapsed": true,
        "id": "DJCzyBEihEQN"
      },
      "source": [
        "## Define metrics"
      ]
    },
    {
      "cell_type": "code",
      "execution_count": null,
      "metadata": {
        "id": "45NEpvDVhEQN"
      },
      "outputs": [],
      "source": [
        "# Test 4\n",
        "from sklearn.metrics import f1_score\n",
        "\n",
        "def f1_score_func(preds, labels):\n",
        "    preds_flat = np.argmax(preds, axis=1).flatten()\n",
        "    labels_flat = labels.flatten()\n",
        "    return f1_score(labels_flat, preds_flat, average='weighted')\n",
        "\n",
        "def accuracy_per_class(preds, labels):\n",
        "    label_dict_inverse = {v: k for k, v in label_dict.items()}\n",
        "\n",
        "    preds_flat = np.argmax(preds, axis=1).flatten()\n",
        "    labels_flat = labels.flatten()\n",
        "\n",
        "    for label in np.unique(labels_flat):\n",
        "        y_preds = preds_flat[labels_flat==label]\n",
        "        y_true = labels_flat[labels_flat==label]\n",
        "        print(f'Class: {label_dict_inverse[label]}')\n",
        "        print(f'Accuracy: {len(y_preds[y_preds==label])}/{len(y_true)}\\n')"
      ]
    },
    {
      "cell_type": "markdown",
      "metadata": {
        "id": "OuyN7y9hhEQN"
      },
      "source": [
        "## Bert Tokenization"
      ]
    },
    {
      "cell_type": "code",
      "execution_count": null,
      "metadata": {
        "id": "3MgS3o5thEQO",
        "outputId": "92445e55-47c5-4a0e-db94-77238927ea5e"
      },
      "outputs": [
        {
          "name": "stderr",
          "output_type": "stream",
          "text": [
            "Truncation was not explicitly activated but `max_length` is provided a specific value, please use `truncation=True` to explicitly truncate examples to max length. Defaulting to 'longest_first' truncation strategy. If you encode pairs of sequences (GLUE-style) with the tokenizer you can select this strategy more precisely by providing a specific strategy to `truncation`.\n"
          ]
        }
      ],
      "source": [
        "tokenizer = BertTokenizer.from_pretrained('bert-base-uncased',\n",
        "                                          do_lower_case=True)\n",
        "\n",
        "encoded_data_train = tokenizer.batch_encode_plus(\n",
        "    df[df.data_type=='train'].text.values,\n",
        "    add_special_tokens=True,\n",
        "    return_attention_mask=True,\n",
        "    pad_to_max_length=True,\n",
        "    max_length=512, # Modify Max_Len here\n",
        "    return_tensors='pt'\n",
        ")\n",
        "\n",
        "encoded_data_val = tokenizer.batch_encode_plus(\n",
        "    df[df.data_type=='val'].text.values,\n",
        "    add_special_tokens=True,\n",
        "    return_attention_mask=True,\n",
        "    pad_to_max_length=True,\n",
        "    max_length=512, # Modify Max_Len here\n",
        "    return_tensors='pt'\n",
        ")\n",
        "\n",
        "\n",
        "input_ids_train = encoded_data_train['input_ids']\n",
        "attention_masks_train = encoded_data_train['attention_mask']\n",
        "labels_train = torch.tensor(df[df.data_type=='train'].sentiment.values)\n",
        "\n",
        "input_ids_val = encoded_data_val['input_ids']\n",
        "attention_masks_val = encoded_data_val['attention_mask']\n",
        "labels_val = torch.tensor(df[df.data_type=='val'].sentiment.values)\n",
        "\n",
        "dataset_train = TensorDataset(input_ids_train, attention_masks_train, labels_train)\n",
        "dataset_val = TensorDataset(input_ids_val, attention_masks_val, labels_val)"
      ]
    },
    {
      "cell_type": "code",
      "source": [
        "from sklearn.utils.class_weight import compute_class_weight\n",
        "\n",
        "# Compute class weights\n",
        "class_weights = compute_class_weight(class_weight='balanced', classes=np.unique(labels_train.numpy()), y=labels_train.numpy())\n",
        "class_weights_tensor = torch.tensor(class_weights, dtype=torch.float, device=device)"
      ],
      "metadata": {
        "id": "CzwxOOM4j5xr"
      },
      "execution_count": null,
      "outputs": []
    },
    {
      "cell_type": "markdown",
      "metadata": {
        "id": "ym8iUC9PhEQO"
      },
      "source": [
        "## Bert Model"
      ]
    },
    {
      "cell_type": "code",
      "execution_count": null,
      "metadata": {
        "id": "zLhSdPOGhEQO",
        "outputId": "6fdfbc21-3bee-45d4-f35e-2ae0094bd902"
      },
      "outputs": [
        {
          "name": "stdout",
          "output_type": "stream",
          "text": [
            "CPU times: user 0 ns, sys: 2.55 ms, total: 2.55 ms\n",
            "Wall time: 57 ms\n"
          ]
        }
      ],
      "source": [
        "%%time\n",
        "# Test 5\n",
        "import random\n",
        "\n",
        "seed_val = 42\n",
        "random.seed(seed_val)\n",
        "np.random.seed(seed_val)\n",
        "torch.manual_seed(seed_val)\n",
        "torch.cuda.manual_seed_all(seed_val)\n",
        "\n",
        "def evaluate(dataloader_val):\n",
        "\n",
        "    model.eval()\n",
        "\n",
        "    loss_val_total = 0\n",
        "    predictions, true_vals = [], []\n",
        "\n",
        "    for batch in dataloader_val:\n",
        "\n",
        "        batch = tuple(b.to(device) for b in batch)\n",
        "\n",
        "        inputs = {'input_ids':      batch[0],\n",
        "                  'attention_mask': batch[1],\n",
        "                  'labels':         batch[2],\n",
        "                 }\n",
        "\n",
        "        with torch.no_grad():\n",
        "            outputs = model(**inputs)\n",
        "\n",
        "        loss = outputs[0]\n",
        "        logits = outputs[1]\n",
        "        loss_val_total += loss.item()\n",
        "\n",
        "        logits = logits.detach().cpu().numpy()\n",
        "        label_ids = inputs['labels'].cpu().numpy()\n",
        "        predictions.append(logits)\n",
        "        true_vals.append(label_ids)\n",
        "\n",
        "    loss_val_avg = loss_val_total/len(dataloader_val)\n",
        "\n",
        "    predictions = np.concatenate(predictions, axis=0)\n",
        "    true_vals = np.concatenate(true_vals, axis=0)\n",
        "\n",
        "    return loss_val_avg, predictions, true_vals"
      ]
    },
    {
      "cell_type": "code",
      "execution_count": null,
      "metadata": {
        "id": "Fnu8JE38hEQO",
        "outputId": "11235766-0d81-447e-bdc8-c694e036e973"
      },
      "outputs": [
        {
          "name": "stderr",
          "output_type": "stream",
          "text": [
            "Some weights of BertForSequenceClassification were not initialized from the model checkpoint at bert-base-uncased and are newly initialized: ['classifier.bias', 'classifier.weight']\n",
            "You should probably TRAIN this model on a down-stream task to be able to use it for predictions and inference.\n"
          ]
        },
        {
          "name": "stdout",
          "output_type": "stream",
          "text": [
            "\n",
            "======================batch size = 32, learning_rate = 3e-05, epsilon = 1e-08======================\n",
            "\n",
            "Epoch 1\n",
            "Training loss: 0.7445425131859688\n",
            "Validation loss: 0.581117797929507\n",
            "F1 Score (Weighted): 0.7504887102749176\n",
            "Class: very negative\n",
            "Accuracy: 139/185\n",
            "\n",
            "Class: negative -1\n",
            "Accuracy: 422/658\n",
            "\n",
            "Class: neutral\n",
            "Accuracy: 650/700\n",
            "\n",
            "Class: positive\n",
            "Accuracy: 49/120\n",
            "\n",
            "\n",
            "Epoch 2\n",
            "Training loss: 0.4521609958834373\n",
            "Validation loss: 0.5235066620203165\n",
            "F1 Score (Weighted): 0.7927696950009196\n",
            "Class: very negative\n",
            "Accuracy: 142/185\n",
            "\n",
            "Class: negative -1\n",
            "Accuracy: 523/658\n",
            "\n",
            "Class: neutral\n",
            "Accuracy: 573/700\n",
            "\n",
            "Class: positive\n",
            "Accuracy: 75/120\n",
            "\n",
            "\n",
            "Epoch 3\n",
            "Training loss: 0.2994536400700991\n",
            "Validation loss: 0.5582929826699771\n",
            "F1 Score (Weighted): 0.7998293030192632\n",
            "Class: very negative\n",
            "Accuracy: 146/185\n",
            "\n",
            "Class: negative -1\n",
            "Accuracy: 553/658\n",
            "\n",
            "Class: neutral\n",
            "Accuracy: 572/700\n",
            "\n",
            "Class: positive\n",
            "Accuracy: 60/120\n",
            "\n",
            "\n",
            "======================batch size = 32, learning_rate = 3e-05, epsilon = 1e-06======================\n",
            "\n",
            "Epoch 1\n",
            "Training loss: 0.3251801163602907\n",
            "Validation loss: 0.604258197431381\n",
            "F1 Score (Weighted): 0.7845720855134217\n",
            "Class: very negative\n",
            "Accuracy: 120/185\n",
            "\n",
            "Class: negative -1\n",
            "Accuracy: 553/658\n",
            "\n",
            "Class: neutral\n",
            "Accuracy: 555/700\n",
            "\n",
            "Class: positive\n",
            "Accuracy: 73/120\n",
            "\n",
            "\n",
            "Epoch 2\n",
            "Training loss: 0.19765772453795832\n",
            "Validation loss: 0.6928338964398091\n",
            "F1 Score (Weighted): 0.7959470871360849\n",
            "Class: very negative\n",
            "Accuracy: 143/185\n",
            "\n",
            "Class: negative -1\n",
            "Accuracy: 558/658\n",
            "\n",
            "Class: neutral\n",
            "Accuracy: 577/700\n",
            "\n",
            "Class: positive\n",
            "Accuracy: 50/120\n",
            "\n",
            "\n",
            "Epoch 3\n",
            "Training loss: 0.10979478637455031\n",
            "Validation loss: 0.7422114146443514\n",
            "F1 Score (Weighted): 0.807584959336639\n",
            "Class: very negative\n",
            "Accuracy: 139/185\n",
            "\n",
            "Class: negative -1\n",
            "Accuracy: 548/658\n",
            "\n",
            "Class: neutral\n",
            "Accuracy: 599/700\n",
            "\n",
            "Class: positive\n",
            "Accuracy: 60/120\n",
            "\n",
            "CPU times: user 13min 37s, sys: 6min 20s, total: 19min 57s\n",
            "Wall time: 20min 6s\n"
          ]
        }
      ],
      "source": [
        "%%time\n",
        "# Test 2\n",
        "from collections import deque\n",
        "import torch.nn as nn\n",
        "from sklearn.metrics import classification_report\n",
        "from transformers import AdamW, get_linear_schedule_with_warmup\n",
        "from torch.utils.data import DataLoader, RandomSampler, SequentialSampler\n",
        "\n",
        "model = BertForSequenceClassification.from_pretrained(\"bert-base-uncased\",\n",
        "                                                      num_labels=4,\n",
        "                                                      output_attentions=False,\n",
        "                                                      output_hidden_states=False,\n",
        "                                                      problem_type=\"single_label_classification\"\n",
        "                                                      )\n",
        "model.to(device)\n",
        "\n",
        "# Use class_weights loss function for imbalnce data\n",
        "loss_fn = nn.CrossEntropyLoss(weight=class_weights_tensor)\n",
        "\n",
        "# Early stopping parameters\n",
        "early_stopping_patience = 3\n",
        "early_stopping_counter = 0\n",
        "best_val_loss = float('inf')\n",
        "loss_queue = deque(maxlen=early_stopping_patience)  # to store the last few losses\n",
        "\n",
        "#Use Grid Search to Fine-tune hyperparameters.\n",
        "epochs = 3\n",
        "learning_rates = [3e-5] # [3e-5, 5e-5, 1e-4]\n",
        "epsilons = [1e-8, 1e-6]\n",
        "batch_size_list = [32]\n",
        "for b in batch_size_list:\n",
        "    dataloader_train = DataLoader(dataset_train,\n",
        "                                  sampler=RandomSampler(dataset_train),\n",
        "                                  batch_size=b)\n",
        "\n",
        "    dataloader_validation = DataLoader(dataset_val,\n",
        "                                       sampler=SequentialSampler(dataset_val),\n",
        "                                       batch_size=b)\n",
        "    for lr in learning_rates:\n",
        "      for eps in epsilons:\n",
        "        print(f\"\\n======================batch size = {b}, learning_rate = {lr}, epsilon = {eps}======================\")\n",
        "        optimizer = AdamW(model.parameters(),\n",
        "                            lr=lr,\n",
        "                            eps=eps)\n",
        "        scheduler = get_linear_schedule_with_warmup(optimizer,\n",
        "                                          num_warmup_steps=0,\n",
        "                                          num_training_steps=len(dataloader_train)*epochs)\n",
        "\n",
        "        for epoch in range(1, epochs+1):\n",
        "            model.train()\n",
        "\n",
        "            loss_train_total = 0\n",
        "            for batch in dataloader_train:\n",
        "                model.zero_grad()\n",
        "                batch = tuple(b.to(device) for b in batch)\n",
        "                inputs = {'input_ids':      batch[0],\n",
        "                          'attention_mask': batch[1],\n",
        "                          'labels':         batch[2]\n",
        "                          }\n",
        "                outputs = model(**{k: v for k, v in inputs.items() if k != 'labels'})\n",
        "                logits = outputs.logits\n",
        "\n",
        "                # Calculate loss with class weights\n",
        "                loss = loss_fn(logits, inputs['labels'])  # Apply the weighted loss function directly\n",
        "\n",
        "                loss_train_total += loss.item()\n",
        "                loss.backward()\n",
        "                torch.nn.utils.clip_grad_norm_(model.parameters(), 1.0)\n",
        "                optimizer.step()\n",
        "                scheduler.step()\n",
        "\n",
        "            # torch.save(model.state_dict(), f'/home/cb4344/ML Project Bert/finetuned_BERT_epoch_{epoch}.model')\n",
        "            tqdm.write(f'\\nEpoch {epoch}')\n",
        "            loss_train_avg = loss_train_total/len(dataloader_train)\n",
        "            tqdm.write(f'Training loss: {loss_train_avg}')\n",
        "            val_loss, predictions, true_vals = evaluate(dataloader_validation)\n",
        "            val_f1 = f1_score_func(predictions, true_vals)\n",
        "            tqdm.write(f'Validation loss: {val_loss}')\n",
        "            tqdm.write(f'F1 Score (Weighted): {val_f1}')\n",
        "            accuracy_per_class(predictions, true_vals)\n",
        "\n",
        "            # Implement Early Stopping\n",
        "            if val_loss < best_val_loss:\n",
        "                best_val_loss = val_loss\n",
        "                # torch.save(model.state_dict(), 'model.pth')  # Save the best model\n",
        "                early_stopping_counter = 0\n",
        "            else:\n",
        "                early_stopping_counter += 1\n",
        "\n",
        "            if early_stopping_counter >= early_stopping_patience:\n",
        "              print(\"Stopping early due to no improvement in validation loss.\")\n",
        "              break\n",
        "\n",
        "        val_loss, predictions, true_vals = evaluate(dataloader_validation)\n",
        "        preds_class = np.argmax(predictions, axis=1)\n",
        "        print(classification_report(true_vals, preds_class, target_names=[label_dict_inverse[i] for i in range(num_labels)]))"
      ]
    },
    {
      "cell_type": "code",
      "source": [],
      "metadata": {
        "id": "kAzEGPB4lk5e"
      },
      "execution_count": null,
      "outputs": []
    }
  ],
  "metadata": {
    "accelerator": "GPU",
    "colab": {
      "gpuType": "L4",
      "machine_shape": "hm",
      "provenance": []
    },
    "kernelspec": {
      "display_name": "Python 3 (ipykernel)",
      "language": "python",
      "name": "python3"
    },
    "language_info": {
      "codemirror_mode": {
        "name": "ipython",
        "version": 3
      },
      "file_extension": ".py",
      "mimetype": "text/x-python",
      "name": "python",
      "nbconvert_exporter": "python",
      "pygments_lexer": "ipython3",
      "version": "3.11.7"
    }
  },
  "nbformat": 4,
  "nbformat_minor": 0
}